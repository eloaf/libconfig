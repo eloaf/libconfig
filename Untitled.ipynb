{
 "cells": [
  {
   "cell_type": "code",
   "execution_count": 1,
   "metadata": {},
   "outputs": [],
   "source": [
    "%load_ext autoreload\n",
    "%autoreload 2"
   ]
  },
  {
   "cell_type": "code",
   "execution_count": 2,
   "metadata": {},
   "outputs": [],
   "source": [
    "import libconfig as cfg\n",
    "import os\n",
    "import pandas as pd"
   ]
  },
  {
   "cell_type": "code",
   "execution_count": 3,
   "metadata": {},
   "outputs": [],
   "source": [
    "cfg.register_option(\"path\", \"in\", os.path.expanduser('~'), \"path_in\", \"this path needs to exist.\")\n",
    "cfg.register_option('opt', 'one', 1, 'int', 'option 1')\n",
    "cfg.register_option('opt', 'two', 2, 'int', 'option 2')"
   ]
  },
  {
   "cell_type": "code",
   "execution_count": 4,
   "metadata": {},
   "outputs": [
    {
     "data": {
      "text/html": [
       "<div>\n",
       "<style scoped>\n",
       "    .dataframe tbody tr th:only-of-type {\n",
       "        vertical-align: middle;\n",
       "    }\n",
       "\n",
       "    .dataframe tbody tr th {\n",
       "        vertical-align: top;\n",
       "    }\n",
       "\n",
       "    .dataframe thead th {\n",
       "        text-align: right;\n",
       "    }\n",
       "</style>\n",
       "<table border=\"1\" class=\"dataframe\">\n",
       "  <thead>\n",
       "    <tr style=\"text-align: right;\">\n",
       "      <th></th>\n",
       "      <th>primary-key</th>\n",
       "      <th>secondary-key</th>\n",
       "      <th>value</th>\n",
       "      <th>type</th>\n",
       "      <th>default</th>\n",
       "      <th>locked</th>\n",
       "      <th>description</th>\n",
       "      <th>values</th>\n",
       "    </tr>\n",
       "  </thead>\n",
       "  <tbody>\n",
       "    <tr>\n",
       "      <th>0</th>\n",
       "      <td>path</td>\n",
       "      <td>in</td>\n",
       "      <td>/Users/bonet</td>\n",
       "      <td>path_in</td>\n",
       "      <td>/Users/bonet</td>\n",
       "      <td>False</td>\n",
       "      <td>this path needs to exist.</td>\n",
       "      <td>None</td>\n",
       "    </tr>\n",
       "    <tr>\n",
       "      <th>1</th>\n",
       "      <td>opt</td>\n",
       "      <td>one</td>\n",
       "      <td>1</td>\n",
       "      <td>int</td>\n",
       "      <td>1</td>\n",
       "      <td>False</td>\n",
       "      <td>option 1</td>\n",
       "      <td>None</td>\n",
       "    </tr>\n",
       "    <tr>\n",
       "      <th>2</th>\n",
       "      <td>opt</td>\n",
       "      <td>two</td>\n",
       "      <td>2</td>\n",
       "      <td>int</td>\n",
       "      <td>2</td>\n",
       "      <td>False</td>\n",
       "      <td>option 2</td>\n",
       "      <td>None</td>\n",
       "    </tr>\n",
       "  </tbody>\n",
       "</table>\n",
       "</div>"
      ],
      "text/plain": [
       "  primary-key secondary-key         value     type       default locked  \\\n",
       "0  path        in            /Users/bonet  path_in  /Users/bonet  False   \n",
       "1  opt         one           1             int      1             False   \n",
       "2  opt         two           2             int      2             False   \n",
       "\n",
       "                 description values  \n",
       "0  this path needs to exist.  None   \n",
       "1  option 1                   None   \n",
       "2  option 2                   None   "
      ]
     },
     "execution_count": 4,
     "metadata": {},
     "output_type": "execute_result"
    }
   ],
   "source": [
    "cfg.show_options()"
   ]
  },
  {
   "cell_type": "code",
   "execution_count": 5,
   "metadata": {},
   "outputs": [
    {
     "name": "stdout",
     "output_type": "stream",
     "text": [
      "10\n",
      "1\n"
     ]
    }
   ],
   "source": [
    "with cfg.on_option_value('opt', 'one', 10):\n",
    "    print(cfg.get_option('opt', 'one'))\n",
    "print(cfg.get_option('opt', 'one'))"
   ]
  },
  {
   "cell_type": "code",
   "execution_count": 6,
   "metadata": {},
   "outputs": [
    {
     "name": "stdout",
     "output_type": "stream",
     "text": [
      "10\n",
      "20\n",
      "1\n",
      "2\n"
     ]
    }
   ],
   "source": [
    "with cfg.on_option_value('opt', 'one', 10, 'opt', 'two', 20):\n",
    "    print(cfg.get_option('opt', 'one'))\n",
    "    print(cfg.get_option('opt', 'two'))\n",
    "print(cfg.get_option('opt', 'one'))\n",
    "print(cfg.get_option('opt', 'two'))"
   ]
  },
  {
   "cell_type": "code",
   "execution_count": 22,
   "metadata": {},
   "outputs": [
    {
     "data": {
      "text/plain": [
       "'/Volumes/MiniTwo/bin/python/libconfig/.test.libconfig.cfg'"
      ]
     },
     "execution_count": 22,
     "metadata": {},
     "output_type": "execute_result"
    }
   ],
   "source": [
    "#os.chdir('libconfig')\n",
    "cfg.get_local_config_file('.test.libconfig.cfg')"
   ]
  },
  {
   "cell_type": "code",
   "execution_count": 10,
   "metadata": {},
   "outputs": [
    {
     "data": {
      "text/plain": [
       "'/Volumes/MiniTwo/bin/python/libconfig/libconfig'"
      ]
     },
     "execution_count": 10,
     "metadata": {},
     "output_type": "execute_result"
    }
   ],
   "source": [
    "os.getcwd()"
   ]
  },
  {
   "cell_type": "code",
   "execution_count": 16,
   "metadata": {},
   "outputs": [
    {
     "data": {
      "text/plain": [
       "'/Volumes/MiniTwo/bin/python/libconfig'"
      ]
     },
     "execution_count": 16,
     "metadata": {},
     "output_type": "execute_result"
    }
   ],
   "source": [
    "from subprocess import run, PIPE\n",
    "run(['git', 'rev-parse', '--show-toplevel'],\n",
    "                              stdout=PIPE,\n",
    "                              stderr=PIPE).stdout.decode('utf-8').strip()"
   ]
  }
 ],
 "metadata": {
  "kernelspec": {
   "display_name": "py36SBI",
   "language": "python",
   "name": "py36sbi"
  },
  "language_info": {
   "codemirror_mode": {
    "name": "ipython",
    "version": 3
   },
   "file_extension": ".py",
   "mimetype": "text/x-python",
   "name": "python",
   "nbconvert_exporter": "python",
   "pygments_lexer": "ipython3",
   "version": "3.6.5"
  }
 },
 "nbformat": 4,
 "nbformat_minor": 2
}
