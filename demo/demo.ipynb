{
 "cells": [
  {
   "cell_type": "code",
   "execution_count": 1,
   "metadata": {
    "collapsed": true
   },
   "outputs": [],
   "source": [
    "%load_ext autoreload\n",
    "%autoreload 2"
   ]
  },
  {
   "cell_type": "code",
   "execution_count": 2,
   "metadata": {
    "collapsed": true
   },
   "outputs": [],
   "source": [
    "from IPython.display import Markdown, HTML, display\n",
    "import json\n",
    "import yaml\n",
    "\n",
    "import libconfig as cfg"
   ]
  },
  {
   "cell_type": "code",
   "execution_count": 3,
   "metadata": {
    "collapsed": true
   },
   "outputs": [],
   "source": [
    "def describe_function( function ):\n",
    "    display(Markdown(\"**{}( ):**\".format(function.__name__)))\n",
    "    display(HTML(function.__doc__.strip(\"\\n\").replace(\"\\n\", \"<br/>\").replace(\" \", \"&nbsp;\").replace(\";:\", \";<u>:\").replace(\":&\", \":</u>&\")))"
   ]
  },
  {
   "cell_type": "markdown",
   "metadata": {},
   "source": [
    "# Registering the options in your new library\n",
    "\n",
    "Let's assume that one decides to declare the options in `core/core_init.py` inside the library.  \n",
    "Obviously, the file must be the first to be imported in the main `__init__.py` of the library if it is meant to be accessed by any further part of it.  \n",
    "The core configuration file might look like this:"
   ]
  },
  {
   "cell_type": "code",
   "execution_count": 4,
   "metadata": {},
   "outputs": [],
   "source": [
    "import os\n",
    "\n",
    "from libconfig import *\n",
    "\n",
    "# Reset before starting is good, it avoids issues when working with jupyter and %autoreload.\n",
    "# Otherwise an error will be raised trying to register again already registered options.\n",
    "reset_options()\n",
    "\n",
    "# Register the options for the library, here some examples of the different types.\n",
    "register_option(\"number\", \"integer\", 5, \"int\", \"this is an integer example\", True)\n",
    "register_option(\"number\", \"float\", 3.4, \"float\", \"this is a float example\", False)\n",
    "register_option(\"no_number\", \"boolean\", True, \"bool\", \"this is a boolean example\", False)\n",
    "register_option(\"no_number\", \"text\", \"the_string\", \"string\", \"this is a string example\", False)\n",
    "register_option(\"paths\", \"in\", \"demo.ipynb\", \"path_in\", \"this is a path example that has to exist\", False)\n",
    "register_option(\"paths\", \"out.json\", \"configs.json\", \"path_out\",\n",
    "                    \"this is a path example that does not have to exist\", False)\n",
    "register_option(\"paths\", \"out.yaml\", \"configs.yaml\", \"path_out\",\n",
    "                    \"this is a path example that does not have to exist\", False)\n",
    "\n",
    "# Let's assume one wants to give the option to generate a user's configuration file.\n",
    "# First time the library is called, it can create this config file with the current defaults.\n",
    "# The user can change those for further runs. Ideally, the file would be something such as:\n",
    "config_file = os.path.join(os.getenv(\"HOME\"), \".libraryname\")\n",
    "# But, to avoid raising an IOError, for this example we point to a file in the demo\n",
    "config_file = \"configs.yaml\"\n",
    "\n",
    "# Either make or read from the file.\n",
    "if not os.path.isfile(config_file):\n",
    "    write_options_to_YAML( config_file )\n",
    "else:\n",
    "    set_options_from_YAML( config_file )\n",
    "\n",
    "# Finally, register_option and reset_option are taken out from the global view so that they are not\n",
    "# imported with the rest of the functions. This way the user can not access to them when importing\n",
    "# the library and has to work through the rest of the available functions.\n",
    "for name in [\"register_option\", \"reset_options\"]:\n",
    "    del globals()[name]"
   ]
  },
  {
   "cell_type": "markdown",
   "metadata": {},
   "source": [
    "**Be aware that locked options cannot be changed! Not even through the global configuration file**\n",
    "\n",
    "The main functions called here are:"
   ]
  },
  {
   "cell_type": "code",
   "execution_count": 5,
   "metadata": {},
   "outputs": [
    {
     "data": {
      "text/markdown": [
       "**register_option( ):**"
      ],
      "text/plain": [
       "<IPython.core.display.Markdown object>"
      ]
     },
     "metadata": {},
     "output_type": "display_data"
    },
    {
     "data": {
      "text/html": [
       "&nbsp;&nbsp;&nbsp;&nbsp;Create&nbsp;a&nbsp;new&nbsp;option.<br/>&nbsp;&nbsp;&nbsp;&nbsp;<u>:param&nbsp;str&nbsp;key:</u>&nbsp;First&nbsp;identifier&nbsp;of&nbsp;the&nbsp;option.<br/>&nbsp;&nbsp;&nbsp;&nbsp;<u>:param&nbsp;str&nbsp;subkey:</u>&nbsp;Second&nbsp;identifier&nbsp;of&nbsp;the&nbsp;option.<br/>&nbsp;&nbsp;&nbsp;&nbsp;<u>:param&nbsp;default:</u>&nbsp;Default&nbsp;value&nbsp;of&nbsp;the&nbsp;option&nbsp;(type&nbsp;varies).<br/>&nbsp;&nbsp;&nbsp;&nbsp;<u>:param&nbsp;str&nbsp;_type:</u>&nbsp;Type&nbsp;of&nbsp;the&nbsp;value&nbsp;of&nbsp;the&nbsp;option:</u>&nbsp;[int,&nbsp;float,&nbsp;bool,&nbsp;text,&nbsp;string,&nbsp;path_in,&nbsp;path_out].<br/>&nbsp;&nbsp;&nbsp;&nbsp;<u>:param&nbsp;str&nbsp;definition:</u>&nbsp;String&nbsp;explaining&nbsp;the&nbsp;option.<br/><br/>&nbsp;&nbsp;&nbsp;&nbsp;<u>:raise:</u>&nbsp;KeyError&nbsp;if&nbsp;'key'&nbsp;or&nbsp;'subkey'&nbsp;already&nbsp;define&nbsp;an&nbsp;option<br/><br/>&nbsp;&nbsp;&nbsp;&nbsp;"
      ],
      "text/plain": [
       "<IPython.core.display.HTML object>"
      ]
     },
     "metadata": {},
     "output_type": "display_data"
    },
    {
     "data": {
      "text/markdown": [
       "**reset_options( ):**"
      ],
      "text/plain": [
       "<IPython.core.display.Markdown object>"
      ]
     },
     "metadata": {},
     "output_type": "display_data"
    },
    {
     "data": {
      "text/html": [
       "&nbsp;&nbsp;&nbsp;&nbsp;Empty&nbsp;ALL&nbsp;options.<br/>&nbsp;&nbsp;&nbsp;&nbsp;"
      ],
      "text/plain": [
       "<IPython.core.display.HTML object>"
      ]
     },
     "metadata": {},
     "output_type": "display_data"
    }
   ],
   "source": [
    "describe_function( cfg.register_option )\n",
    "describe_function( cfg.reset_options )"
   ]
  },
  {
   "cell_type": "markdown",
   "metadata": {},
   "source": [
    "and one can see the current options with: (see how `number_float` has a different value than the default, loaded through the config file)"
   ]
  },
  {
   "cell_type": "code",
   "execution_count": 6,
   "metadata": {},
   "outputs": [
    {
     "data": {
      "text/html": [
       "<div>\n",
       "<table border=\"1\" class=\"dataframe\">\n",
       "  <thead>\n",
       "    <tr style=\"text-align: right;\">\n",
       "      <th></th>\n",
       "      <th>primary-key</th>\n",
       "      <th>secondary-key</th>\n",
       "      <th>value</th>\n",
       "      <th>type</th>\n",
       "      <th>default</th>\n",
       "      <th>locked</th>\n",
       "      <th>description</th>\n",
       "    </tr>\n",
       "  </thead>\n",
       "  <tbody>\n",
       "    <tr>\n",
       "      <th>0</th>\n",
       "      <td>number</td>\n",
       "      <td>integer</td>\n",
       "      <td>5</td>\n",
       "      <td>int</td>\n",
       "      <td>5</td>\n",
       "      <td>True</td>\n",
       "      <td>this is an integer example</td>\n",
       "    </tr>\n",
       "    <tr>\n",
       "      <th>1</th>\n",
       "      <td>number</td>\n",
       "      <td>float</td>\n",
       "      <td>12</td>\n",
       "      <td>float</td>\n",
       "      <td>3.4</td>\n",
       "      <td>False</td>\n",
       "      <td>this is a float example</td>\n",
       "    </tr>\n",
       "    <tr>\n",
       "      <th>2</th>\n",
       "      <td>no_number</td>\n",
       "      <td>boolean</td>\n",
       "      <td>1</td>\n",
       "      <td>bool</td>\n",
       "      <td>1</td>\n",
       "      <td>False</td>\n",
       "      <td>this is a boolean example</td>\n",
       "    </tr>\n",
       "    <tr>\n",
       "      <th>3</th>\n",
       "      <td>no_number</td>\n",
       "      <td>text</td>\n",
       "      <td>the_string</td>\n",
       "      <td>string</td>\n",
       "      <td>the_string</td>\n",
       "      <td>False</td>\n",
       "      <td>this is a string example</td>\n",
       "    </tr>\n",
       "    <tr>\n",
       "      <th>4</th>\n",
       "      <td>paths</td>\n",
       "      <td>in</td>\n",
       "      <td>demo.ipynb</td>\n",
       "      <td>path_in</td>\n",
       "      <td>demo.ipynb</td>\n",
       "      <td>False</td>\n",
       "      <td>this is a path example that has to exist</td>\n",
       "    </tr>\n",
       "    <tr>\n",
       "      <th>5</th>\n",
       "      <td>paths</td>\n",
       "      <td>out.json</td>\n",
       "      <td>configs.json</td>\n",
       "      <td>path_out</td>\n",
       "      <td>configs.json</td>\n",
       "      <td>False</td>\n",
       "      <td>this is a path example that does not have to exist</td>\n",
       "    </tr>\n",
       "    <tr>\n",
       "      <th>6</th>\n",
       "      <td>paths</td>\n",
       "      <td>out.yaml</td>\n",
       "      <td>configs.yaml</td>\n",
       "      <td>path_out</td>\n",
       "      <td>configs.yaml</td>\n",
       "      <td>False</td>\n",
       "      <td>this is a path example that does not have to exist</td>\n",
       "    </tr>\n",
       "  </tbody>\n",
       "</table>\n",
       "</div>"
      ],
      "text/plain": [
       "  primary-key secondary-key         value      type       default locked  \\\n",
       "0  number      integer       5             int       5             True    \n",
       "1  number      float         12            float     3.4           False   \n",
       "2  no_number   boolean       1             bool      1             False   \n",
       "3  no_number   text          the_string    string    the_string    False   \n",
       "4  paths       in            demo.ipynb    path_in   demo.ipynb    False   \n",
       "5  paths       out.json      configs.json  path_out  configs.json  False   \n",
       "6  paths       out.yaml      configs.yaml  path_out  configs.yaml  False   \n",
       "\n",
       "                                          description  \n",
       "0  this is an integer example                          \n",
       "1  this is a float example                             \n",
       "2  this is a boolean example                           \n",
       "3  this is a string example                            \n",
       "4  this is a path example that has to exist            \n",
       "5  this is a path example that does not have to exist  \n",
       "6  this is a path example that does not have to exist  "
      ]
     },
     "execution_count": 6,
     "metadata": {},
     "output_type": "execute_result"
    }
   ],
   "source": [
    "show_options()"
   ]
  },
  {
   "cell_type": "markdown",
   "metadata": {},
   "source": [
    "alternatively to **YAML**, configuration files can also be defined with **JSON**"
   ]
  },
  {
   "cell_type": "code",
   "execution_count": 7,
   "metadata": {},
   "outputs": [
    {
     "data": {
      "text/markdown": [
       "**write_options_to_YAML( ):**"
      ],
      "text/plain": [
       "<IPython.core.display.Markdown object>"
      ]
     },
     "metadata": {},
     "output_type": "display_data"
    },
    {
     "data": {
      "text/html": [
       "&nbsp;&nbsp;&nbsp;&nbsp;Writes&nbsp;the&nbsp;options&nbsp;in&nbsp;YAML&nbsp;format&nbsp;to&nbsp;a&nbsp;file.<br/>&nbsp;&nbsp;&nbsp;&nbsp;<u>:param&nbsp;str&nbsp;filename:</u>&nbsp;Target&nbsp;file&nbsp;to&nbsp;write&nbsp;the&nbsp;options.<br/>&nbsp;&nbsp;&nbsp;&nbsp;"
      ],
      "text/plain": [
       "<IPython.core.display.HTML object>"
      ]
     },
     "metadata": {},
     "output_type": "display_data"
    },
    {
     "data": {
      "text/markdown": [
       "**write_options_to_JSON( ):**"
      ],
      "text/plain": [
       "<IPython.core.display.Markdown object>"
      ]
     },
     "metadata": {},
     "output_type": "display_data"
    },
    {
     "data": {
      "text/html": [
       "&nbsp;&nbsp;&nbsp;&nbsp;Writes&nbsp;the&nbsp;options&nbsp;in&nbsp;JSON&nbsp;format&nbsp;to&nbsp;a&nbsp;file.<br/>&nbsp;&nbsp;&nbsp;&nbsp;<u>:param&nbsp;str&nbsp;filename:</u>&nbsp;Target&nbsp;file&nbsp;to&nbsp;write&nbsp;the&nbsp;options.<br/>&nbsp;&nbsp;&nbsp;&nbsp;"
      ],
      "text/plain": [
       "<IPython.core.display.HTML object>"
      ]
     },
     "metadata": {},
     "output_type": "display_data"
    },
    {
     "data": {
      "text/markdown": [
       "**set_options_from_YAML( ):**"
      ],
      "text/plain": [
       "<IPython.core.display.Markdown object>"
      ]
     },
     "metadata": {},
     "output_type": "display_data"
    },
    {
     "data": {
      "text/html": [
       "&nbsp;&nbsp;&nbsp;&nbsp;Load&nbsp;options&nbsp;from&nbsp;a&nbsp;YAML-formated&nbsp;file.<br/>&nbsp;&nbsp;&nbsp;&nbsp;<u>:param&nbsp;str&nbsp;filename:</u>&nbsp;File&nbsp;from&nbsp;which&nbsp;to&nbsp;load&nbsp;the&nbsp;options.<br/>&nbsp;&nbsp;&nbsp;&nbsp;"
      ],
      "text/plain": [
       "<IPython.core.display.HTML object>"
      ]
     },
     "metadata": {},
     "output_type": "display_data"
    },
    {
     "data": {
      "text/markdown": [
       "**set_options_from_JSON( ):**"
      ],
      "text/plain": [
       "<IPython.core.display.Markdown object>"
      ]
     },
     "metadata": {},
     "output_type": "display_data"
    },
    {
     "data": {
      "text/html": [
       "&nbsp;&nbsp;&nbsp;&nbsp;Load&nbsp;options&nbsp;from&nbsp;a&nbsp;YAML-formated&nbsp;file.<br/>&nbsp;&nbsp;&nbsp;&nbsp;<u>:param&nbsp;str&nbsp;filename:</u>&nbsp;File&nbsp;from&nbsp;which&nbsp;to&nbsp;load&nbsp;the&nbsp;options.<br/>&nbsp;&nbsp;&nbsp;&nbsp;"
      ],
      "text/plain": [
       "<IPython.core.display.HTML object>"
      ]
     },
     "metadata": {},
     "output_type": "display_data"
    }
   ],
   "source": [
    "describe_function( write_options_to_YAML )\n",
    "describe_function( write_options_to_JSON )\n",
    "describe_function( set_options_from_YAML )\n",
    "describe_function( set_options_from_JSON )"
   ]
  },
  {
   "cell_type": "markdown",
   "metadata": {},
   "source": [
    "Functionally, options can be accessed with `get_option` and changed with `set_option`"
   ]
  },
  {
   "cell_type": "code",
   "execution_count": 8,
   "metadata": {},
   "outputs": [
    {
     "data": {
      "text/markdown": [
       "**get_option( ):**"
      ],
      "text/plain": [
       "<IPython.core.display.Markdown object>"
      ]
     },
     "metadata": {},
     "output_type": "display_data"
    },
    {
     "data": {
      "text/html": [
       "&nbsp;&nbsp;&nbsp;&nbsp;Get&nbsp;the&nbsp;current&nbsp;value&nbsp;of&nbsp;the&nbsp;option.<br/>&nbsp;&nbsp;&nbsp;&nbsp;<u>:param&nbsp;str&nbsp;key:</u>&nbsp;First&nbsp;identifier&nbsp;of&nbsp;the&nbsp;option.<br/>&nbsp;&nbsp;&nbsp;&nbsp;<u>:param&nbsp;str&nbsp;subkey:</u>&nbsp;Second&nbsp;identifier&nbsp;of&nbsp;the&nbsp;option.<br/>&nbsp;&nbsp;&nbsp;&nbsp;<u>:return:</u>&nbsp;Current&nbsp;value&nbsp;of&nbsp;the&nbsp;option&nbsp;(type&nbsp;varies).<br/><br/>&nbsp;&nbsp;&nbsp;&nbsp;<u>:raise:</u>&nbsp;KeyError&nbsp;if&nbsp;'key'&nbsp;or&nbsp;'subkey'&nbsp;do&nbsp;not&nbsp;define&nbsp;any&nbsp;option<br/>&nbsp;&nbsp;&nbsp;&nbsp;"
      ],
      "text/plain": [
       "<IPython.core.display.HTML object>"
      ]
     },
     "metadata": {},
     "output_type": "display_data"
    },
    {
     "data": {
      "text/markdown": [
       "**set_option( ):**"
      ],
      "text/plain": [
       "<IPython.core.display.Markdown object>"
      ]
     },
     "metadata": {},
     "output_type": "display_data"
    },
    {
     "data": {
      "text/html": [
       "&nbsp;&nbsp;&nbsp;&nbsp;Sets&nbsp;the&nbsp;value&nbsp;of&nbsp;an&nbsp;option<br/>&nbsp;&nbsp;&nbsp;&nbsp;<u>:param&nbsp;str&nbsp;key:</u>&nbsp;First&nbsp;identifier&nbsp;of&nbsp;the&nbsp;option.<br/>&nbsp;&nbsp;&nbsp;&nbsp;<u>:param&nbsp;str&nbsp;subkey:</u>&nbsp;Second&nbsp;identifier&nbsp;of&nbsp;the&nbsp;option.<br/>&nbsp;&nbsp;&nbsp;&nbsp;<u>:param&nbsp;value:</u>&nbsp;New&nbsp;value&nbsp;for&nbsp;the&nbsp;option&nbsp;(type&nbsp;varies).<br/><br/>&nbsp;&nbsp;&nbsp;&nbsp;<u>:raise:</u>&nbsp;KeyError&nbsp;if&nbsp;'key'&nbsp;or&nbsp;'subkey'&nbsp;do&nbsp;not&nbsp;define&nbsp;any&nbsp;option.<br/>&nbsp;&nbsp;&nbsp;&nbsp;<u>:raise:</u>&nbsp;ValueError&nbsp;if&nbsp;the&nbsp;targeted&nbsp;obtion&nbsp;is&nbsp;locked.<br/>&nbsp;&nbsp;&nbsp;&nbsp;<u>:raise:</u>&nbsp;ValueError&nbsp;if&nbsp;the&nbsp;provided&nbsp;value&nbsp;is&nbsp;not&nbsp;the&nbsp;expected&nbsp;type&nbsp;for&nbsp;the&nbsp;option.<br/>&nbsp;&nbsp;&nbsp;&nbsp;"
      ],
      "text/plain": [
       "<IPython.core.display.HTML object>"
      ]
     },
     "metadata": {},
     "output_type": "display_data"
    }
   ],
   "source": [
    "describe_function( get_option )\n",
    "describe_function( set_option )"
   ]
  },
  {
   "cell_type": "markdown",
   "metadata": {},
   "source": [
    "Trying to set a value that is not the proper one in an option will result in an error.  \n",
    "So will trying to assign a value to a non-registered option or to change a *locked* option."
   ]
  },
  {
   "cell_type": "code",
   "execution_count": 9,
   "metadata": {},
   "outputs": [
    {
     "name": "stdout",
     "output_type": "stream",
     "text": [
      "Value must have type '<type 'int'>'\n"
     ]
    }
   ],
   "source": [
    "try:\n",
    "    set_option( \"number\", \"integer\", 5.5 )\n",
    "except ValueError, e:\n",
    "    print e"
   ]
  },
  {
   "cell_type": "code",
   "execution_count": 10,
   "metadata": {},
   "outputs": [
    {
     "name": "stdout",
     "output_type": "stream",
     "text": [
      "'number.random option is not registered'\n"
     ]
    }
   ],
   "source": [
    "try:\n",
    "    set_option( \"number\", \"random\", 5.5 )\n",
    "except KeyError, e:\n",
    "    print e"
   ]
  },
  {
   "cell_type": "code",
   "execution_count": 11,
   "metadata": {},
   "outputs": [
    {
     "name": "stdout",
     "output_type": "stream",
     "text": [
      "Value must have type '<type 'int'>'\n"
     ]
    }
   ],
   "source": [
    "try:\n",
    "    set_option( \"number\", \"integer\", 5.5 )\n",
    "except ValueError, e:\n",
    "    print e"
   ]
  },
  {
   "cell_type": "markdown",
   "metadata": {},
   "source": [
    "All available functions are listed here; they are better explained in the [API]()"
   ]
  },
  {
   "cell_type": "code",
   "execution_count": 13,
   "metadata": {},
   "outputs": [
    {
     "data": {
      "text/plain": [
       "['get_option',\n",
       " 'get_option_default',\n",
       " 'get_option_description',\n",
       " 'lock_option',\n",
       " 'register_option',\n",
       " 'reset_option',\n",
       " 'reset_options',\n",
       " 'set_option',\n",
       " 'set_options_from_JSON',\n",
       " 'set_options_from_YAML',\n",
       " 'set_options_from_dict',\n",
       " 'show_options',\n",
       " 'write_options_to_JSON',\n",
       " 'write_options_to_YAML']"
      ]
     },
     "execution_count": 13,
     "metadata": {},
     "output_type": "execute_result"
    }
   ],
   "source": [
    "[x for x in dir(cfg) if not x.startswith(\"_\") and \"_\" in x]"
   ]
  },
  {
   "cell_type": "code",
   "execution_count": null,
   "metadata": {
    "collapsed": true
   },
   "outputs": [],
   "source": []
  }
 ],
 "metadata": {
  "kernelspec": {
   "display_name": "Python 2",
   "language": "python",
   "name": "python2"
  },
  "language_info": {
   "codemirror_mode": {
    "name": "ipython",
    "version": 2
   },
   "file_extension": ".py",
   "mimetype": "text/x-python",
   "name": "python",
   "nbconvert_exporter": "python",
   "pygments_lexer": "ipython2",
   "version": "2.7.12"
  }
 },
 "nbformat": 4,
 "nbformat_minor": 2
}
